{
 "cells": [
  {
   "cell_type": "markdown",
   "id": "f6c9e23b-3b31-4183-91bc-04790fe33bdd",
   "metadata": {},
   "source": [
    "# Data structures\n",
    "\n",
    "Data structures are architectures in which data are stored in python.  There are [many, many](https://realpython.com/python-data-structures/) data structures, but we will cover the most commonly used: lists and dictionaries.\n",
    "\n",
    "Note that you will also make frequent use of [arrays](https://numpy.org/doc/stable/reference/generated/numpy.array.html) in the AI/ML workshop.  In python, true arrays do not exist and instead come from the library [numpy](https://numpy.org), which is how you will be using them."
   ]
  },
  {
   "cell_type": "markdown",
   "id": "858239ba-6f92-46f7-b230-ec3a2c4f8fd6",
   "metadata": {},
   "source": [
    "## Lists\n",
    "\n",
    "You have already seen a couple of lists.  They're used to store multiple values in a single structure and are contained within square brackets `[ ]`.\n",
    "\n",
    "Lists are:\n",
    "* mutable\n",
    "* iterable\n",
    "* ordered\n",
    "* can contain multiple data types (arbitrary objects)\n",
    "* can be nested"
   ]
  },
  {
   "cell_type": "code",
   "execution_count": 1,
   "id": "da1eb8f4-7954-4799-85e3-28c59c3e0f5f",
   "metadata": {},
   "outputs": [
    {
     "name": "stdout",
     "output_type": "stream",
     "text": [
      "<class 'list'>\n",
      "<class 'list'>\n",
      "['so', 'is', 7]\n"
     ]
    }
   ],
   "source": [
    "a_list = ['this', 'is', 'a', 'list']\n",
    "print(type(a_list))\n",
    "this = 7\n",
    "b_list = ['so', 'is', this]\n",
    "print(type(b_list))\n",
    "print(b_list)"
   ]
  },
  {
   "cell_type": "code",
   "execution_count": 2,
   "id": "7ad60079-7ad3-4393-9c49-006fa3981181",
   "metadata": {},
   "outputs": [
    {
     "name": "stdout",
     "output_type": "stream",
     "text": [
      "<class 'list'>\n"
     ]
    }
   ],
   "source": [
    "# empty lists are fine, and are often useful in scripts\n",
    "empty_list = []\n",
    "print(type(empty_list))"
   ]
  },
  {
   "cell_type": "code",
   "execution_count": 3,
   "id": "73c267e9-f714-43ad-896c-95c1ce0e0f29",
   "metadata": {},
   "outputs": [
    {
     "name": "stdout",
     "output_type": "stream",
     "text": [
      "['a', 'b', ['c', 'd'], 'e']\n"
     ]
    }
   ],
   "source": [
    "# a list within a list!\n",
    "letters = ['a', 'b', ['c', 'd'], 'e']\n",
    "print(letters)"
   ]
  },
  {
   "cell_type": "markdown",
   "id": "81b5dded-f512-41b2-a22f-c68f754e6f88",
   "metadata": {},
   "source": [
    "We can use functions on lists."
   ]
  },
  {
   "cell_type": "code",
   "execution_count": 4,
   "id": "0845f722-81d2-4722-a4b3-11c627542de1",
   "metadata": {},
   "outputs": [
    {
     "name": "stdout",
     "output_type": "stream",
     "text": [
      "4\n",
      "False\n"
     ]
    }
   ],
   "source": [
    "print(len(a_list))\n",
    "print(len(a_list) == len(b_list))"
   ]
  },
  {
   "cell_type": "markdown",
   "id": "22c76e6c-888b-416f-b926-dcb119f394af",
   "metadata": {},
   "source": [
    "Like strings, they can be indexed and sliced."
   ]
  },
  {
   "cell_type": "code",
   "execution_count": 5,
   "id": "481cd03f-f011-48ec-a93c-100c19766b0e",
   "metadata": {},
   "outputs": [
    {
     "name": "stdout",
     "output_type": "stream",
     "text": [
      "['this', 'is', 'a', 'list']\n",
      "this\n",
      "True\n"
     ]
    }
   ],
   "source": [
    "print(a_list)\n",
    "print(a_list[0])\n",
    "print(a_list[1] == b_list[1])"
   ]
  },
  {
   "cell_type": "code",
   "execution_count": 7,
   "id": "ed6df3db-4d38-4dd1-ab79-ec5eabc04318",
   "metadata": {},
   "outputs": [
    {
     "name": "stdout",
     "output_type": "stream",
     "text": [
      "[9, 18, 243]\n"
     ]
    }
   ],
   "source": [
    "numbers = [6, 9, 18, 243, 7]\n",
    "print(numbers[1:4])"
   ]
  },
  {
   "cell_type": "markdown",
   "id": "9da585b7-6c89-4e62-8d36-900433e95df9",
   "metadata": {},
   "source": [
    "I said earlier that lists are **mutable**.   That means that we can add to and change the values inside them.  Let's chack out a few ways to do that."
   ]
  },
  {
   "cell_type": "code",
   "execution_count": 14,
   "id": "d1082139-1543-4af5-afed-ed935549ddbe",
   "metadata": {},
   "outputs": [
    {
     "name": "stdout",
     "output_type": "stream",
     "text": [
      "[5, 10, 15, 20, 25]\n"
     ]
    }
   ],
   "source": [
    "# replace based on position\n",
    "fives = [5, 10, 15, 20, 30] # oops, I meant 25!\n",
    "fives[4] = 25\n",
    "print(fives) "
   ]
  },
  {
   "cell_type": "code",
   "execution_count": 15,
   "id": "f3ea8309-f50f-471b-b5e4-c857d91194f6",
   "metadata": {},
   "outputs": [
    {
     "name": "stdout",
     "output_type": "stream",
     "text": [
      "[5, 10, 15, 20, 25, 30]\n"
     ]
    },
    {
     "data": {
      "text/plain": [
       "30"
      ]
     },
     "execution_count": 15,
     "metadata": {},
     "output_type": "execute_result"
    }
   ],
   "source": [
    "# add to the end of a list with append()\n",
    "fives.append(30)\n",
    "print(fives)"
   ]
  },
  {
   "cell_type": "code",
   "execution_count": 19,
   "id": "0c869997-afaf-4cc8-a0c4-747637821eb9",
   "metadata": {},
   "outputs": [
    {
     "name": "stdout",
     "output_type": "stream",
     "text": [
      "[0, 8, 1, 5, 10, 15, 20, 25, 30, 1]\n"
     ]
    }
   ],
   "source": [
    "# add to the beginning or middle of a list with insert()\n",
    "fives.insert(99, 1) # have to provide the position\n",
    "print(fives)"
   ]
  },
  {
   "cell_type": "markdown",
   "id": "d635a0d7-30d7-4bc1-896e-2b019a006ea4",
   "metadata": {},
   "source": [
    "Going out of the list's range will result in an error."
   ]
  },
  {
   "cell_type": "code",
   "execution_count": 20,
   "id": "9cc3760e-8c3f-4f38-a90b-8639fe96574d",
   "metadata": {},
   "outputs": [
    {
     "ename": "IndexError",
     "evalue": "list index out of range",
     "output_type": "error",
     "traceback": [
      "\u001b[0;31m---------------------------------------------------------------------------\u001b[0m",
      "\u001b[0;31mIndexError\u001b[0m                                Traceback (most recent call last)",
      "Input \u001b[0;32mIn [20]\u001b[0m, in \u001b[0;36m<cell line: 1>\u001b[0;34m()\u001b[0m\n\u001b[0;32m----> 1\u001b[0m \u001b[43mfives\u001b[49m\u001b[43m[\u001b[49m\u001b[38;5;241;43m77\u001b[39;49m\u001b[43m]\u001b[49m\n",
      "\u001b[0;31mIndexError\u001b[0m: list index out of range"
     ]
    }
   ],
   "source": [
    "fives[77]"
   ]
  },
  {
   "cell_type": "markdown",
   "id": "621bc027-18f7-4b9c-a529-631af917f08e",
   "metadata": {},
   "source": [
    "As a bit of a side note, you can't do this with strings, because they are **immutable**."
   ]
  },
  {
   "cell_type": "code",
   "execution_count": 21,
   "id": "9e0e9a2e-8312-4e84-8179-7cc377f6e4ba",
   "metadata": {},
   "outputs": [
    {
     "ename": "AttributeError",
     "evalue": "'str' object has no attribute 'append'",
     "output_type": "error",
     "traceback": [
      "\u001b[0;31m---------------------------------------------------------------------------\u001b[0m",
      "\u001b[0;31mAttributeError\u001b[0m                            Traceback (most recent call last)",
      "Input \u001b[0;32mIn [21]\u001b[0m, in \u001b[0;36m<cell line: 2>\u001b[0;34m()\u001b[0m\n\u001b[1;32m      1\u001b[0m a_str \u001b[38;5;241m=\u001b[39m \u001b[38;5;124m'\u001b[39m\u001b[38;5;124mstring\u001b[39m\u001b[38;5;124m'\u001b[39m\n\u001b[0;32m----> 2\u001b[0m \u001b[43ma_str\u001b[49m\u001b[38;5;241;43m.\u001b[39;49m\u001b[43mappend\u001b[49m(\u001b[38;5;124m'\u001b[39m\u001b[38;5;124ms\u001b[39m\u001b[38;5;124m'\u001b[39m)\n",
      "\u001b[0;31mAttributeError\u001b[0m: 'str' object has no attribute 'append'"
     ]
    }
   ],
   "source": [
    "a_str = 'string'\n",
    "a_str.append('s')"
   ]
  },
  {
   "cell_type": "markdown",
   "id": "ede2d59f-c3f4-46df-9868-3f6f6bb981c9",
   "metadata": {},
   "source": [
    "## Dictionaries\n",
    "\n",
    "Python dictionaries store an arbitrary number of objects that are each attached to a unique identifier called a **key**.  In other languages, similar data structures are generally called hashes, hash tables, maps, and associative arrays.\n",
    "\n",
    "Dictionaries are surrounded by curly brackets `{ }` and contain comma-separated lists `key:value` groups.\n",
    "\n",
    "Dictionaries are:\n",
    "* mutable\n",
    "* iterable\n",
    "* ordered\n",
    "* can contain multiple data types (arbitrary objects)\n",
    "* can be nested"
   ]
  },
  {
   "cell_type": "code",
   "execution_count": 22,
   "id": "5675024e-8ea9-44b4-ad06-dbc87e859ac2",
   "metadata": {},
   "outputs": [
    {
     "name": "stdout",
     "output_type": "stream",
     "text": [
      "<class 'dict'>\n"
     ]
    }
   ],
   "source": [
    "names_dict = {'last name':'first name', 'Harrison':'Amelia', 'Richards':'Vanessa'}\n",
    "print(type(names_dict))"
   ]
  },
  {
   "cell_type": "markdown",
   "id": "a4a5db4d-0781-4f70-a096-a53c059f8b01",
   "metadata": {},
   "source": [
    "Instead of retrieving values with positional indexing (like we did with lists and strings), we use keys to retrieve values."
   ]
  },
  {
   "cell_type": "code",
   "execution_count": 23,
   "id": "f1be472b-45d9-4470-9ba5-52a3a8b66820",
   "metadata": {},
   "outputs": [
    {
     "name": "stdout",
     "output_type": "stream",
     "text": [
      "first name\n",
      "Amelia\n",
      "Vanessa\n"
     ]
    }
   ],
   "source": [
    "# get the first names\n",
    "print(names_dict['last name'])\n",
    "print(names_dict['Harrison'])\n",
    "print(names_dict['Richards'])"
   ]
  },
  {
   "cell_type": "code",
   "execution_count": 25,
   "id": "3f3b3eaa-4239-40ad-87cc-c67054c3ff3f",
   "metadata": {},
   "outputs": [
    {
     "ename": "KeyError",
     "evalue": "'Amelia'",
     "output_type": "error",
     "traceback": [
      "\u001b[0;31m---------------------------------------------------------------------------\u001b[0m",
      "\u001b[0;31mKeyError\u001b[0m                                  Traceback (most recent call last)",
      "Input \u001b[0;32mIn [25]\u001b[0m, in \u001b[0;36m<cell line: 1>\u001b[0;34m()\u001b[0m\n\u001b[0;32m----> 1\u001b[0m \u001b[38;5;28mprint\u001b[39m(\u001b[43mnames_dict\u001b[49m\u001b[43m[\u001b[49m\u001b[38;5;124;43m'\u001b[39;49m\u001b[38;5;124;43mAmelia\u001b[39;49m\u001b[38;5;124;43m'\u001b[39;49m\u001b[43m]\u001b[49m)\n",
      "\u001b[0;31mKeyError\u001b[0m: 'Amelia'"
     ]
    }
   ],
   "source": [
    "print(names_dict['Amelia'])"
   ]
  },
  {
   "cell_type": "markdown",
   "id": "69ad3c55-afbf-478c-9283-52152b8edc5e",
   "metadata": {},
   "source": [
    "In the above example, we can easily retrieve values using keys, but not keys using values.  That's not to say it's impossible to retrieve dictionary keys using the values, because [it can be done](https://www.geeksforgeeks.org/python-get-key-from-value-in-dictionary/), but you would like to avoid it when necessary.\n",
    "\n",
    "Python lists are ordered as of version 3.7, but you cannot retrieve values using positions."
   ]
  },
  {
   "cell_type": "code",
   "execution_count": 31,
   "id": "32ec5d46-3aad-471d-b0b1-543c8c1f8f2f",
   "metadata": {},
   "outputs": [
    {
     "ename": "KeyError",
     "evalue": "0",
     "output_type": "error",
     "traceback": [
      "\u001b[0;31m---------------------------------------------------------------------------\u001b[0m",
      "\u001b[0;31mKeyError\u001b[0m                                  Traceback (most recent call last)",
      "Input \u001b[0;32mIn [31]\u001b[0m, in \u001b[0;36m<cell line: 1>\u001b[0;34m()\u001b[0m\n\u001b[0;32m----> 1\u001b[0m \u001b[43mnames_dict\u001b[49m\u001b[43m[\u001b[49m\u001b[38;5;241;43m0\u001b[39;49m\u001b[43m]\u001b[49m\n",
      "\u001b[0;31mKeyError\u001b[0m: 0"
     ]
    }
   ],
   "source": [
    "names_dict[0]"
   ]
  },
  {
   "cell_type": "markdown",
   "id": "ba7ed0e7-eb1c-4759-b4b8-67895d897802",
   "metadata": {},
   "source": [
    "I said that dictionaries are mutable, so let's see that in action."
   ]
  },
  {
   "cell_type": "code",
   "execution_count": 26,
   "id": "2c19a874-a8ed-415e-a25e-dd6d86475d59",
   "metadata": {},
   "outputs": [
    {
     "name": "stdout",
     "output_type": "stream",
     "text": [
      "{'last name': 'first name', 'Harrison': 'Amelia', 'Richards': 'Vanessa', 'Anandakrishnan': 'Rene'}\n"
     ]
    }
   ],
   "source": [
    "# add an entry\n",
    "names_dict['Anandakrishnan'] = 'Rene'\n",
    "print(names_dict)"
   ]
  },
  {
   "cell_type": "markdown",
   "id": "2ab65a3e-ad97-4ec3-b69b-508a9fd27cc6",
   "metadata": {},
   "source": [
    "Rats, it looks like I assigned Rene's first name to Manju's last name!  I'd better update the entry to fix that."
   ]
  },
  {
   "cell_type": "code",
   "execution_count": 27,
   "id": "9b7d0142-2efc-4682-9724-42249e2e454f",
   "metadata": {},
   "outputs": [
    {
     "name": "stdout",
     "output_type": "stream",
     "text": [
      "{'last name': 'first name', 'Harrison': 'Amelia', 'Richards': 'Vanessa', 'Anandakrishnan': 'Manju'}\n",
      "{'last name': 'first name', 'Harrison': 'Amelia', 'Richards': 'Vanessa', 'Anandakrishnan': 'Manju', 'Hoover': 'Rene'}\n"
     ]
    }
   ],
   "source": [
    "names_dict['Anandakrishnan'] = 'Manju'\n",
    "print(names_dict)\n",
    "names_dict['Hoover'] = 'Rene'\n",
    "print(names_dict)"
   ]
  },
  {
   "cell_type": "markdown",
   "id": "af41ac89-f052-4360-881b-6e73f8e76b3f",
   "metadata": {},
   "source": [
    "Much better. While we're at it, let's go ahead and drop the first/last name entry at the beginning."
   ]
  },
  {
   "cell_type": "code",
   "execution_count": 28,
   "id": "7d72843d-8ccf-49a7-9db6-ff6d8271a188",
   "metadata": {},
   "outputs": [
    {
     "name": "stdout",
     "output_type": "stream",
     "text": [
      "{'Harrison': 'Amelia', 'Richards': 'Vanessa', 'Anandakrishnan': 'Manju', 'Hoover': 'Rene'}\n"
     ]
    }
   ],
   "source": [
    "del names_dict['last name']\n",
    "print(names_dict)"
   ]
  },
  {
   "cell_type": "markdown",
   "id": "cf14b1b2-152b-4521-ad23-1e02b5d1107b",
   "metadata": {},
   "source": [
    "As with lists, you can mix data types in dictionaries and nest dictionaries within each other."
   ]
  },
  {
   "cell_type": "code",
   "execution_count": 29,
   "id": "be78f773-c928-4a31-96cb-379d90bc14b4",
   "metadata": {},
   "outputs": [
    {
     "name": "stdout",
     "output_type": "stream",
     "text": [
      "{'breakfast': {'meal': 1, 'calories': 500, 'tasty?': True}, 'lunch': {'meal': 2, 'calories': 0, 'tasty?': False, 'notes': 'sandwich was dropped :('}, 'dinner': {'meal': 3, 'calories': 1500, 'tasty?': True}}\n"
     ]
    }
   ],
   "source": [
    "food_dict = {'breakfast':{'meal': 1, 'calories':500, 'tasty?':True}, \n",
    "             'lunch':{'meal': 2, 'calories':0, 'tasty?':False, 'notes':'sandwich was dropped :('},\n",
    "             'dinner':{'meal': 3, 'calories':1500, 'tasty?':True}}\n",
    "print(food_dict)"
   ]
  },
  {
   "cell_type": "code",
   "execution_count": 33,
   "id": "528be8b5-c313-4e8e-b2e5-426ac2e839f8",
   "metadata": {},
   "outputs": [
    {
     "name": "stdout",
     "output_type": "stream",
     "text": [
      "{'meal': 1, 'calories': 500, 'tasty?': True}\n",
      "sandwich was dropped :(\n"
     ]
    }
   ],
   "source": [
    "# accessing the nested dictionaries\n",
    "print(food_dict['breakfast'])\n",
    "print(food_dict['lunch']['notes'])"
   ]
  }
 ],
 "metadata": {
  "kernelspec": {
   "display_name": "Python 3 (ipykernel)",
   "language": "python",
   "name": "python3"
  },
  "language_info": {
   "codemirror_mode": {
    "name": "ipython",
    "version": 3
   },
   "file_extension": ".py",
   "mimetype": "text/x-python",
   "name": "python",
   "nbconvert_exporter": "python",
   "pygments_lexer": "ipython3",
   "version": "3.9.7"
  }
 },
 "nbformat": 4,
 "nbformat_minor": 5
}
