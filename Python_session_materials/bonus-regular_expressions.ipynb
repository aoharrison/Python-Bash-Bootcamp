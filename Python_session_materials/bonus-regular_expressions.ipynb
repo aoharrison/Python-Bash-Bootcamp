{
 "cells": [
  {
   "cell_type": "markdown",
   "id": "3ca11cd2-da2f-4d4f-9e6a-8abbee7b784f",
   "metadata": {},
   "source": [
    "# Regular Expressions\n",
    "\n",
    "Regular expressions, also known as regexes, are a staple in virtually all programming languages.  They allow you to perform **string matching** (also called string searching), which generally involves searching for a smaller string referred to as a **pattern** in a string of equal or greater size (remember, a string is just a sequence of characters).\n",
    "\n",
    "String matching algorithms are ubiquitous in bioinformatics and computational biology/chemistry.  Why?  Because DNA, RNA, proteins, and chemical structures are all represented to a computer as strings.  "
   ]
  },
  {
   "cell_type": "markdown",
   "id": "38b0055e-c24c-437e-a7b9-84003b0db290",
   "metadata": {},
   "source": [
    "## Regex in Python\n",
    "\n",
    "While every programming language contains functionality for regular expressions, the syntax for doing so changes between languages.  In python, some string matching/searching can be done with built-in methods.  This will be a relatively shallow dive into regex.  For a more thorough guide to regex in python, see [this article](https://realpython.com/regex-python/).  There are also great resources out there like [this one](https://regexr.com) that will let you test your regexes.\n",
    "\n",
    "Let's say you have the string 'Python is Fun!'.  You are pretty sure that the **substring** 'Fun' exists within the string, but you would like to confirm this.  If the substring exists, you would also like to know where it begins.  There are a couple of ways we can do this.\n",
    "\n",
    "To confirm that 'Fun' is a substring of 'Python is Fun!', we can use `in`."
   ]
  },
  {
   "cell_type": "code",
   "execution_count": 10,
   "id": "954979dd-0b8c-4c4d-96a4-c0f97b795db9",
   "metadata": {},
   "outputs": [
    {
     "data": {
      "text/plain": [
       "True"
      ]
     },
     "execution_count": 10,
     "metadata": {},
     "output_type": "execute_result"
    }
   ],
   "source": [
    "a_str = 'Python is Fun!'\n",
    "\n",
    "'Fun' in a_str"
   ]
  },
  {
   "cell_type": "markdown",
   "id": "4aa7a877-cc78-47cd-b5c6-14d3aa6381cf",
   "metadata": {},
   "source": [
    "Having confirmed that 'Fun' is in 'Python is Fun!', we can know figure out where in the string it exists."
   ]
  },
  {
   "cell_type": "code",
   "execution_count": 9,
   "id": "c29bd323-f8bb-4562-a416-8ae21dab2bf1",
   "metadata": {},
   "outputs": [
    {
     "data": {
      "text/plain": [
       "10"
      ]
     },
     "execution_count": 9,
     "metadata": {},
     "output_type": "execute_result"
    }
   ],
   "source": [
    "a_str.index('Fun')"
   ]
  },
  {
   "cell_type": "code",
   "execution_count": 6,
   "id": "3951bce7-da02-4aed-8b55-e44c952eb17a",
   "metadata": {},
   "outputs": [
    {
     "data": {
      "text/plain": [
       "10"
      ]
     },
     "execution_count": 6,
     "metadata": {},
     "output_type": "execute_result"
    }
   ],
   "source": [
    "a_str.find('Fun')"
   ]
  },
  {
   "cell_type": "markdown",
   "id": "d7a7281d-d8dc-4948-ab77-b5702821f5df",
   "metadata": {},
   "source": [
    "Note that the above methods will fail if the the substring is not in `a_str`, so running the `in` statement is technically unnecessary."
   ]
  },
  {
   "cell_type": "code",
   "execution_count": 12,
   "id": "4af1cbb0-1b62-4150-9da1-0dbde1cd3efa",
   "metadata": {},
   "outputs": [
    {
     "ename": "ValueError",
     "evalue": "substring not found",
     "output_type": "error",
     "traceback": [
      "\u001b[0;31m---------------------------------------------------------------------------\u001b[0m",
      "\u001b[0;31mValueError\u001b[0m                                Traceback (most recent call last)",
      "Input \u001b[0;32mIn [12]\u001b[0m, in \u001b[0;36m<cell line: 1>\u001b[0;34m()\u001b[0m\n\u001b[0;32m----> 1\u001b[0m \u001b[43ma_str\u001b[49m\u001b[38;5;241;43m.\u001b[39;49m\u001b[43mindex\u001b[49m\u001b[43m(\u001b[49m\u001b[38;5;124;43m'\u001b[39;49m\u001b[38;5;124;43mfun\u001b[39;49m\u001b[38;5;124;43m'\u001b[39;49m\u001b[43m)\u001b[49m\n",
      "\u001b[0;31mValueError\u001b[0m: substring not found"
     ]
    }
   ],
   "source": [
    "a_str.index('fun') # also note that the searching is case-sensitive"
   ]
  },
  {
   "cell_type": "markdown",
   "id": "7b765472-50dc-4e8f-b6ae-07a4b13f2626",
   "metadata": {},
   "source": [
    "The above examples are very simple examples where specific characters are compared to each other.  Sometimes, this will be enough, but many times you will need more flexibility."
   ]
  },
  {
   "cell_type": "markdown",
   "id": "83e2c40f-5ad5-42e0-adee-cea881959692",
   "metadata": {},
   "source": [
    "### The `re` Module"
   ]
  },
  {
   "cell_type": "markdown",
   "id": "31df4b80-116f-4cdf-9f1c-4f8d46c4cf24",
   "metadata": {},
   "source": [
    "As a first example, let's say you again want to know if 'Fun' is a substring of 'Python is Fun!'.  But, this time, you would also be satisfied if 'fun' or 'Fun' is in your string.  With the re module, we can ask if either is present using `search()` and a regular expression.\n",
    "\n",
    "When we use `search()`, the syntax will be to provide the **pattern** (our regular expression that we will be searching for) and then the string to be searched."
   ]
  },
  {
   "cell_type": "code",
   "execution_count": 14,
   "id": "44e4dd3f-0b73-435f-9f5d-ca49c6b5af4c",
   "metadata": {},
   "outputs": [
    {
     "data": {
      "text/plain": [
       "<re.Match object; span=(10, 13), match='Fun'>"
      ]
     },
     "execution_count": 14,
     "metadata": {},
     "output_type": "execute_result"
    }
   ],
   "source": [
    "# first, we need to import the module\n",
    "import re\n",
    "\n",
    "# notice that we give the function the pattern and then the string\n",
    "re.search('[Ff]un', a_str)"
   ]
  },
  {
   "cell_type": "markdown",
   "id": "32fc4b60-aedd-4bec-9bb6-540e500c0ac5",
   "metadata": {},
   "source": [
    "As you can see, the function `search()` confirmed that our pattern is in our string `a_str` and also returned a match object telling us that the substring spans from position 10 to position 13 (remember, string splicing is non-inclusive in python) and that the match was 'Fun.'\n",
    "\n",
    "Note that if our string had been slightly different, we would have gotten a different value for match:"
   ]
  },
  {
   "cell_type": "code",
   "execution_count": 15,
   "id": "3793a870-772b-49d0-84a5-99cc9f3445b4",
   "metadata": {},
   "outputs": [
    {
     "data": {
      "text/plain": [
       "<re.Match object; span=(10, 13), match='fun'>"
      ]
     },
     "execution_count": 15,
     "metadata": {},
     "output_type": "execute_result"
    }
   ],
   "source": [
    "b_str = 'Python is fun!'\n",
    "\n",
    "re.search('[Ff]un', b_str)"
   ]
  },
  {
   "cell_type": "markdown",
   "id": "cbad466c-41e1-4b6c-852b-f2507d294fa6",
   "metadata": {},
   "source": [
    "This time, our match is 'fun' with a lower case f.  As you may have guessed, the `[Ff]` portion of the pattern we searched for means that either an uppercase or lowercase f is acceptable.  We use the square brackets `[ ]` to indicate a **character class**.  Basically, the square brackets say, \"hey python/re, I want you to look for any of the characters in these brackets in the target string.\"  \n",
    "\n",
    "Let's see what happens when we play around with the brackets."
   ]
  },
  {
   "cell_type": "code",
   "execution_count": 17,
   "id": "1eb7b92a-1b99-4f59-bf2f-abb82c29d3d3",
   "metadata": {},
   "outputs": [
    {
     "data": {
      "text/plain": [
       "<re.Match object; span=(5, 6), match='n'>"
      ]
     },
     "execution_count": 17,
     "metadata": {},
     "output_type": "execute_result"
    }
   ],
   "source": [
    "re.search('[Ffun]', a_str)"
   ]
  },
  {
   "cell_type": "code",
   "execution_count": 18,
   "id": "f0790b20-9df5-43e0-a77a-91185493738d",
   "metadata": {},
   "outputs": [
    {
     "data": {
      "text/plain": [
       "<re.Match object; span=(11, 13), match='un'>"
      ]
     },
     "execution_count": 18,
     "metadata": {},
     "output_type": "execute_result"
    }
   ],
   "source": [
    "re.search('[Ffu]n', a_str)"
   ]
  },
  {
   "cell_type": "code",
   "execution_count": 22,
   "id": "2fc7c1be-b286-4cf5-954d-c35333629980",
   "metadata": {},
   "outputs": [],
   "source": [
    "re.search('Ff[un]', a_str)"
   ]
  },
  {
   "cell_type": "code",
   "execution_count": 23,
   "id": "ee7e8ccb-4a1d-4e09-a1b6-336a1ce0dd65",
   "metadata": {},
   "outputs": [
    {
     "name": "stdout",
     "output_type": "stream",
     "text": [
      "None\n"
     ]
    }
   ],
   "source": [
    "print(re.search('Ff[un]', a_str))"
   ]
  },
  {
   "cell_type": "markdown",
   "id": "bb696db8-d69c-4752-b826-803d6ce5cc3f",
   "metadata": {},
   "source": [
    "So, what's going on here?  \n",
    "\n",
    "In the first example, we asked to find the character F, f, u or n in `a_str` and we got a match.  We actually matched the n at the end of 'Python' rather than the one in 'Fun.'  Why?  Because when `search()` finds a match, the function terminates and returns the match.  I will show you how to get all matches later on.\n",
    "\n",
    "In the second example, we asked to find the character F, f, or u followed by the character n.  In other words, we were looking for Fn, fn, or un.  In this case, we again had a match, this time to the un in 'Fun'.\n",
    "\n",
    "In the last example, we effectively searched for Ffu or Ffn.  Because our string did not contain either of those substrings, it actually returned `None`.  If you haven't heard of the `None` type in python, you can read up on it [here](https://realpython.com/null-in-python/).\n",
    "\n",
    "In these examples, we illustrated that characters outside of the brackets must be matched exactly and that only one character within brackets may be matched (without special characters).  We also learned that `search()` only returns the first match."
   ]
  },
  {
   "cell_type": "markdown",
   "id": "63289ec6-86dd-4e55-9b5a-97f7096df05b",
   "metadata": {},
   "source": [
    "There are some other special characters that we can use to match certain parts of a string:"
   ]
  },
  {
   "cell_type": "code",
   "execution_count": 24,
   "id": "79ba0c14-2712-4fb3-98f8-0066639a05ff",
   "metadata": {},
   "outputs": [
    {
     "data": {
      "text/plain": [
       "<re.Match object; span=(0, 6), match='Python'>"
      ]
     },
     "execution_count": 24,
     "metadata": {},
     "output_type": "execute_result"
    }
   ],
   "source": [
    "# ^ looks for a pattern at the beginning of a string\n",
    "re.search('^[Pp]ython', a_str)"
   ]
  },
  {
   "cell_type": "code",
   "execution_count": 25,
   "id": "45f7d6e5-813f-4c88-9f51-4adc7e0978e9",
   "metadata": {},
   "outputs": [
    {
     "data": {
      "text/plain": [
       "<re.Match object; span=(10, 14), match='Fun!'>"
      ]
     },
     "execution_count": 25,
     "metadata": {},
     "output_type": "execute_result"
    }
   ],
   "source": [
    "# $ looks for a pattern at the end of a string\n",
    "re.search('Fun!$', a_str)"
   ]
  },
  {
   "cell_type": "markdown",
   "id": "1eabb2f5-d240-471c-89b7-901ccd527c7f",
   "metadata": {},
   "source": [
    "You can also match numbers and whitespace characters:"
   ]
  },
  {
   "cell_type": "code",
   "execution_count": 36,
   "id": "657012d2-5b79-4ae5-bd6b-498b43c2159d",
   "metadata": {},
   "outputs": [
    {
     "name": "stdout",
     "output_type": "stream",
     "text": [
      "\n",
      " 1 2 3 4 \n",
      " 5 6 7 8\n"
     ]
    },
    {
     "data": {
      "text/plain": [
       "<re.Match object; span=(2, 3), match='1'>"
      ]
     },
     "execution_count": 36,
     "metadata": {},
     "output_type": "execute_result"
    }
   ],
   "source": [
    "numbers = '\\n 1 2 3 4 \\n 5 6 7 8'\n",
    "\n",
    "print(numbers)\n",
    "\n",
    "# searches for a number from 0 to 9 inclusive\n",
    "re.search('[0-9]', numbers)"
   ]
  },
  {
   "cell_type": "code",
   "execution_count": 35,
   "id": "e91b396f-54bf-4bd8-97d7-1eb50c7dd5b1",
   "metadata": {},
   "outputs": [
    {
     "data": {
      "text/plain": [
       "<re.Match object; span=(1, 2), match=' '>"
      ]
     },
     "execution_count": 35,
     "metadata": {},
     "output_type": "execute_result"
    }
   ],
   "source": [
    "# . matches anything except a new line\n",
    "re.search('.', numbers) # this one matched the first space!"
   ]
  },
  {
   "cell_type": "markdown",
   "id": "415eb203-6339-49b8-9bf8-182030271d01",
   "metadata": {},
   "source": [
    "You can also use more than one set of square brackets in a single regex."
   ]
  },
  {
   "cell_type": "code",
   "execution_count": 41,
   "id": "74d0decf-e045-4c00-839c-1d6ac53aee62",
   "metadata": {},
   "outputs": [],
   "source": [
    "# searches for three digits each from 0 to 9\n",
    "re.search('[0-9][0-9][0-9]', numbers)"
   ]
  },
  {
   "cell_type": "markdown",
   "id": "299f26bf-e700-4a00-96a0-9c61e2ae4117",
   "metadata": {},
   "source": [
    "Note that the above example does not return anything because of the spaces between the numbers.  If we wanted to match the first three numbers, we would have to include the spaces:"
   ]
  },
  {
   "cell_type": "code",
   "execution_count": 40,
   "id": "ef245709-fb3f-4b37-ab5c-b503ed90260e",
   "metadata": {},
   "outputs": [
    {
     "data": {
      "text/plain": [
       "<re.Match object; span=(2, 7), match='1 2 3'>"
      ]
     },
     "execution_count": 40,
     "metadata": {},
     "output_type": "execute_result"
    }
   ],
   "source": [
    "re.search('[0-9] [0-9] [0-9]', numbers)"
   ]
  },
  {
   "cell_type": "code",
   "execution_count": 42,
   "id": "9e826d08-632f-43a5-be0c-182d72f6c957",
   "metadata": {},
   "outputs": [
    {
     "data": {
      "text/plain": [
       "<re.Match object; span=(2, 7), match='1 2 3'>"
      ]
     },
     "execution_count": 42,
     "metadata": {},
     "output_type": "execute_result"
    }
   ],
   "source": [
    "# this also works\n",
    "re.search('[0-9].[0-9].[0-9]', numbers)"
   ]
  },
  {
   "cell_type": "markdown",
   "id": "469b9eb7-21fe-45a6-849c-d28002bd7e01",
   "metadata": {},
   "source": [
    "I've shown you how to match any digit, so here is how you match any letter:"
   ]
  },
  {
   "cell_type": "code",
   "execution_count": 43,
   "id": "995979cb-0f1d-486c-8b34-40018b552ace",
   "metadata": {},
   "outputs": [
    {
     "data": {
      "text/plain": [
       "<re.Match object; span=(0, 1), match='P'>"
      ]
     },
     "execution_count": 43,
     "metadata": {},
     "output_type": "execute_result"
    }
   ],
   "source": [
    "# matches any uppercase letter\n",
    "re.search('[A-Z]', a_str)"
   ]
  },
  {
   "cell_type": "code",
   "execution_count": 44,
   "id": "ff407ca6-9f29-4f92-9851-161910fdc048",
   "metadata": {},
   "outputs": [
    {
     "data": {
      "text/plain": [
       "<re.Match object; span=(1, 2), match='y'>"
      ]
     },
     "execution_count": 44,
     "metadata": {},
     "output_type": "execute_result"
    }
   ],
   "source": [
    "# matches any lowercase letter\n",
    "re.search('[a-z]', a_str)"
   ]
  },
  {
   "cell_type": "code",
   "execution_count": 46,
   "id": "79dea1b6-5dc9-4fcc-94b0-f8e85efd74f0",
   "metadata": {},
   "outputs": [
    {
     "data": {
      "text/plain": [
       "<re.Match object; span=(0, 1), match='P'>"
      ]
     },
     "execution_count": 46,
     "metadata": {},
     "output_type": "execute_result"
    }
   ],
   "source": [
    "# matches ay letter at all\n",
    "# matches any uppercase letter\n",
    "re.search('[a-zA-Z]', a_str)"
   ]
  },
  {
   "cell_type": "markdown",
   "id": "dad2f843-5703-424d-9ab5-6b3f408cb1df",
   "metadata": {},
   "source": [
    "### Functions other than `search()`\n",
    "\n",
    "I told you earlier that I would show you how to match more than just the first occurrence of a pattern.  One option is `findall()`, which will return a list of every match:"
   ]
  },
  {
   "cell_type": "code",
   "execution_count": 47,
   "id": "5f76d991-00e6-47e6-b9c8-24713c6bfbf3",
   "metadata": {},
   "outputs": [
    {
     "data": {
      "text/plain": [
       "['on', 'un']"
      ]
     },
     "execution_count": 47,
     "metadata": {},
     "output_type": "execute_result"
    }
   ],
   "source": [
    "re.findall('[a-z]n', a_str)"
   ]
  },
  {
   "cell_type": "markdown",
   "id": "ce0ed011-119e-40f7-9060-adb23e2ef680",
   "metadata": {},
   "source": [
    "Another option is `finditer()`, which returns an iterator with match objects.  Here, I've turned the iterator into a list so you can better see what it's doing:"
   ]
  },
  {
   "cell_type": "code",
   "execution_count": 49,
   "id": "33d62c2d-33ad-46f8-a337-7181176f8129",
   "metadata": {},
   "outputs": [
    {
     "name": "stdout",
     "output_type": "stream",
     "text": [
      "[<re.Match object; span=(4, 6), match='on'>, <re.Match object; span=(11, 13), match='un'>]\n"
     ]
    }
   ],
   "source": [
    "iter_list = list(re.finditer('[a-z]n', a_str))\n",
    "\n",
    "print(iter_list)"
   ]
  },
  {
   "cell_type": "markdown",
   "id": "d95bcaa2-60a2-4db8-ad91-ac96b8bde74a",
   "metadata": {},
   "source": [
    "You can also use `sub()` with regular expressions to replace substrings with other strings.  For example:"
   ]
  },
  {
   "cell_type": "code",
   "execution_count": 50,
   "id": "2c48cc6c-92ac-4e8d-a057-7f996114321d",
   "metadata": {},
   "outputs": [
    {
     "data": {
      "text/plain": [
       "'Python is lame!'"
      ]
     },
     "execution_count": 50,
     "metadata": {},
     "output_type": "execute_result"
    }
   ],
   "source": [
    "re.sub('[Ff]un', 'lame', a_str)"
   ]
  },
  {
   "cell_type": "markdown",
   "id": "91105225-7bca-4181-b774-0bf901dd014f",
   "metadata": {},
   "source": [
    "Of course, python is fun, not lame, so we had better fix our string."
   ]
  },
  {
   "cell_type": "code",
   "execution_count": 51,
   "id": "71b7da74-069c-4950-aab9-b51a8269395b",
   "metadata": {},
   "outputs": [
    {
     "data": {
      "text/plain": [
       "'Python is Fun!'"
      ]
     },
     "execution_count": 51,
     "metadata": {},
     "output_type": "execute_result"
    }
   ],
   "source": [
    "re.sub('[a-z]{4}!', 'Fun', a_str)"
   ]
  },
  {
   "cell_type": "markdown",
   "id": "08fff9f7-ac17-4e5b-86f1-126c18db64d8",
   "metadata": {},
   "source": [
    "In that example, we used regex to find any four letters before an exclamation point and replace them with 'Fun'."
   ]
  },
  {
   "cell_type": "markdown",
   "id": "ba3c2373-2fb3-4a17-8725-3a46f04d89da",
   "metadata": {},
   "source": [
    "# Conclusions\n",
    "\n",
    "Regular expressions, or regexes, are super useful special sequences of characters that allow us to perform advanced pattern matching.  In python, the re module is designed to handle regex and we need to import it.\n",
    "\n",
    "As mentioned above, this was a very shallow dive into regular expressions.  For a much more thorough review, see [this article](https://realpython.com/regex-python/)."
   ]
  }
 ],
 "metadata": {
  "kernelspec": {
   "display_name": "Python 3 (ipykernel)",
   "language": "python",
   "name": "python3"
  },
  "language_info": {
   "codemirror_mode": {
    "name": "ipython",
    "version": 3
   },
   "file_extension": ".py",
   "mimetype": "text/x-python",
   "name": "python",
   "nbconvert_exporter": "python",
   "pygments_lexer": "ipython3",
   "version": "3.9.7"
  }
 },
 "nbformat": 4,
 "nbformat_minor": 5
}
