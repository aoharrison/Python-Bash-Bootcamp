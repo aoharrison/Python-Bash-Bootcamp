{
 "cells": [
  {
   "cell_type": "markdown",
   "id": "5d7b83ff-1170-414a-8d38-6bac4e553e7f",
   "metadata": {},
   "source": [
    "# Conditionals\n",
    "\n",
    "This is where we really get back into booleans.  Conditionals or conditional statements contain the key word `if` that determines whether code will run based on its truthiness.\n",
    "\n",
    "The structure of an if statement is very similar to a for loop:\n",
    "\n",
    "```python\n",
    "if true:\n",
    "    do something\n",
    "```\n",
    "\n",
    "We can also add a second statement to do something else in the case that the conditional is false:\n",
    "\n",
    "```python\n",
    "if true:\n",
    "    do something\n",
    "else:\n",
    "    do a different thing\n",
    "```\n",
    "\n",
    "Notice that you do not need another conditional statement after else; it is executed whenever the if statement evaluates as `false`.  Let's look at a couple of examples."
   ]
  },
  {
   "cell_type": "code",
   "execution_count": 3,
   "id": "66c41b3e-b905-45d5-a5d7-9695d28167ee",
   "metadata": {},
   "outputs": [
    {
     "name": "stdout",
     "output_type": "stream",
     "text": [
      "1 is 1\n"
     ]
    }
   ],
   "source": [
    "if 1 == 1:\n",
    "    print('1 is 1')"
   ]
  },
  {
   "cell_type": "code",
   "execution_count": 4,
   "id": "b4e9c118-9cce-4828-a7ea-bb6cd6d500f6",
   "metadata": {},
   "outputs": [
    {
     "name": "stdout",
     "output_type": "stream",
     "text": [
      "The sky is blue\n"
     ]
    }
   ],
   "source": [
    "sky = 'blue'\n",
    "if sky == 'blue':\n",
    "    print('The sky is blue')"
   ]
  },
  {
   "cell_type": "code",
   "execution_count": 7,
   "id": "b61518f3-8218-405a-a9f5-9277a69717ae",
   "metadata": {},
   "outputs": [
    {
     "name": "stdout",
     "output_type": "stream",
     "text": [
      "Normal squirrel levels\n"
     ]
    }
   ],
   "source": [
    "num_squirrels = 30\n",
    "if num_squirrels > 100:\n",
    "    print('Squirrel invasion!')\n",
    "else:\n",
    "    print('Normal squirrel levels')"
   ]
  },
  {
   "cell_type": "markdown",
   "id": "5e59d8a0-ffac-44c2-a7b4-c0bc1cac2e08",
   "metadata": {},
   "source": [
    "Pretty simple, right?  Now let's try sticking a conditional inside a for loop."
   ]
  },
  {
   "cell_type": "code",
   "execution_count": 5,
   "id": "7690b7f6-de40-4bc9-847d-425746c26b38",
   "metadata": {},
   "outputs": [
    {
     "name": "stdout",
     "output_type": "stream",
     "text": [
      "apple pie is a pie.\n",
      "key lime is a fruit.\n",
      "cherry pie is a pie.\n",
      "kiwi is a fruit.\n",
      "raspberry is a fruit.\n",
      "pecan pie is a pie.\n"
     ]
    }
   ],
   "source": [
    "a_list = ['apple pie', 'key lime', 'cherry pie', 'kiwi', 'raspberry', 'pecan pie']\n",
    "for item in a_list:\n",
    "    if 'pie' in item:\n",
    "        print(item, 'is a pie.')\n",
    "    else:\n",
    "        print(item, 'is a fruit.')"
   ]
  },
  {
   "cell_type": "markdown",
   "id": "8de99749-8026-4253-90f0-332396123be4",
   "metadata": {},
   "source": [
    "We can also work with dictionaries."
   ]
  },
  {
   "cell_type": "code",
   "execution_count": 11,
   "id": "4d65c1c2-d2bb-4e08-a98e-83839e0ecff0",
   "metadata": {},
   "outputs": [
    {
     "name": "stdout",
     "output_type": "stream",
     "text": [
      "peach is a fruit.\n",
      "broccoli is a vegetable.\n",
      "carrot is a vegetable.\n",
      "kiwi is a fruit.\n",
      "pecan is a nut\n"
     ]
    }
   ],
   "source": [
    "produce_dict = {'peach':'fruit', 'broccoli':'vegetable', 'carrot':'vegetable', 'kiwi':'fruit', 'pecan':'nut'}\n",
    "\n",
    "for produce in produce_dict:\n",
    "    if produce_dict[produce] == 'fruit':\n",
    "        print(produce, 'is a fruit.')\n",
    "    elif produce_dict[produce] == 'vegetable':\n",
    "        print(produce, 'is a vegetable.')\n",
    "    else:\n",
    "        print(produce, 'is a', produce_dict[produce])"
   ]
  },
  {
   "cell_type": "markdown",
   "id": "556b8ba1-7b65-4eb2-8a51-4eaffd16b4d6",
   "metadata": {},
   "source": [
    "Useful, right?  You may have noticed that I also snuck an extra piece of syntax in there: `elif`.\n",
    "\n",
    "`elif` is short for else/if and whould be used when you have a reason to evaluate a second condition.\n",
    "\n",
    "It's also important to know that order is important when constructing conditions; each input is tested only once until it gets caught by one of the statements or reaches the end.  Here is an example of what I mean:"
   ]
  },
  {
   "cell_type": "code",
   "execution_count": 15,
   "id": "7f17961d-94c9-4cef-a952-a83636d079b4",
   "metadata": {},
   "outputs": [
    {
     "name": "stdout",
     "output_type": "stream",
     "text": [
      "Gravity is very strong!\n"
     ]
    }
   ],
   "source": [
    "gravity = 9.81\n",
    "\n",
    "if gravity >= 9:\n",
    "    print('Gravity is very strong!')\n",
    "elif gravity > 7:\n",
    "    print('Gravity is strong.')\n",
    "else:\n",
    "    print('Gravity is weak.')"
   ]
  },
  {
   "cell_type": "code",
   "execution_count": 19,
   "id": "8fbd44f1",
   "metadata": {},
   "outputs": [
    {
     "name": "stdout",
     "output_type": "stream",
     "text": [
      "Gravity is strong.\n"
     ]
    }
   ],
   "source": [
    "gravity = 8\n",
    "\n",
    "if gravity >= 9:\n",
    "    print('Gravity is very strong!')\n",
    "elif gravity < 9 or gravity < 7:\n",
    "    print('Gravity is strong.')"
   ]
  },
  {
   "cell_type": "code",
   "execution_count": 20,
   "id": "67d7ad64",
   "metadata": {},
   "outputs": [
    {
     "name": "stdout",
     "output_type": "stream",
     "text": [
      "False\n",
      "True\n",
      "True\n",
      "True\n"
     ]
    }
   ],
   "source": [
    "print(9 > 10 and 9 < 10) # false\n",
    "print(9 > 10 or 9 < 10) # true\n",
    "print(3 == 3 and 'apple' == 'apple') # true\n",
    "print(3 >= 3 or 'apple' == 'banana') # false/true"
   ]
  },
  {
   "cell_type": "markdown",
   "id": "13579da9-f4e5-471b-9143-601c2d0a8259",
   "metadata": {},
   "source": [
    "See how gravity got caught by the first statement even though it should have rated as \"very strong\" on this scale?"
   ]
  }
 ],
 "metadata": {
  "kernelspec": {
   "display_name": "Python 3 (ipykernel)",
   "language": "python",
   "name": "python3"
  },
  "language_info": {
   "codemirror_mode": {
    "name": "ipython",
    "version": 3
   },
   "file_extension": ".py",
   "mimetype": "text/x-python",
   "name": "python",
   "nbconvert_exporter": "python",
   "pygments_lexer": "ipython3",
   "version": "3.9.7"
  }
 },
 "nbformat": 4,
 "nbformat_minor": 5
}
