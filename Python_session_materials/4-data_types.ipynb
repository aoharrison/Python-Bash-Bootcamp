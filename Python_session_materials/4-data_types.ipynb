{
 "cells": [
  {
   "cell_type": "markdown",
   "id": "c5de05c4-a842-4be8-b73b-0c431451a314",
   "metadata": {},
   "source": [
    "# Data Types\n",
    "\n",
    "There are more data types in python than we will discuss here, but we will go through the most common ones.\n",
    "\n",
    "First, you can always ask python what type something is:"
   ]
  },
  {
   "cell_type": "code",
   "execution_count": 2,
   "id": "dcf9b68a-85d0-4ac7-9d58-c30f523c5713",
   "metadata": {},
   "outputs": [
    {
     "name": "stdout",
     "output_type": "stream",
     "text": [
      "<class 'int'>\n",
      "<class 'float'>\n",
      "<class 'str'>\n",
      "<class 'int'>\n"
     ]
    }
   ],
   "source": [
    "print(type(3))\n",
    "print(type(3.0))\n",
    "print(type('a'))\n",
    "a = 3\n",
    "print(type(a))"
   ]
  },
  {
   "cell_type": "markdown",
   "id": "4f935f55-9fe1-47c5-82a5-8cadd6ecf84d",
   "metadata": {},
   "source": [
    "Notice that `'a'` is a string, but `a` is an integer if it is assigned a value of 3.\n",
    "\n",
    "The types that we will discuss here are integers, floats, strings, and bools, but know that there are [many more](https://realpython.com/python-data-types/).\n",
    "\n",
    "## Numeric types\n",
    "\n",
    "We will start with the numeric types, which are integers and floats.  We actually already saw these types back in the first lesson.  They are easy to tell apart, as floats have decimals whereas integers do not.  For the most part, you probably will not have to worry too much about the differences.  However, [floating point arithmetic](https://en.wikipedia.org/wiki/Floating-point_arithmetic) is actually a really important topic in computer science.  Let's check out how they behave."
   ]
  },
  {
   "cell_type": "code",
   "execution_count": 3,
   "id": "bdbd526e-0eec-4a9a-8fb2-67d7ad60d123",
   "metadata": {},
   "outputs": [
    {
     "name": "stdout",
     "output_type": "stream",
     "text": [
      "0.0\n",
      "0\n",
      "0.0\n",
      "9.5\n",
      "19\n"
     ]
    }
   ],
   "source": [
    "print(19.0 - 19)\n",
    "print(int(19.0) - 19)\n",
    "print(19 - float(19))\n",
    "print(19/2)\n",
    "print(int(19.1))"
   ]
  },
  {
   "cell_type": "markdown",
   "id": "208b9109-3751-4f7c-a72d-b9f8d315c012",
   "metadata": {},
   "source": [
    "Above, you can see that you can convert integers to floats and vice versa.  If a float is involved in a calculation, then the result will be a float, even if the other number is an integer.  If you start with two integers, you can get a float out if you perform division, even if the answer is a round number.  Finally, if you try to convert a non-round float to an integer, `int()` will round the float."
   ]
  },
  {
   "cell_type": "markdown",
   "id": "9b7b462a-eec1-4530-9f60-6699b9608b73",
   "metadata": {},
   "source": [
    "## Strings\n",
    "\n",
    "Strings are sequences of characters, and there is a lot we can do with them. \n",
    "\n",
    "Just like numerics, strings can be stored as variables."
   ]
  },
  {
   "cell_type": "code",
   "execution_count": 4,
   "id": "7be40bc9-3e20-43de-a587-fc414d2c975d",
   "metadata": {},
   "outputs": [
    {
     "name": "stdout",
     "output_type": "stream",
     "text": [
      "PythonIsFun\n",
      "PythonIsFun\n",
      "<class 'str'>\n"
     ]
    }
   ],
   "source": [
    "print('PythonIsFun')\n",
    "a = 'PythonIsFun'\n",
    "print(a)\n",
    "print(type(a))"
   ]
  },
  {
   "cell_type": "markdown",
   "id": "5e3ba5c9-2d8d-4fa7-b703-f4326237a356",
   "metadata": {},
   "source": [
    "Strings can be **indexed**, meaning we can go into them and grab pieces based on their position.  When doing this, keep in mind that python is what we call **zero-indexed**, meaning that the first position of a string is 0, not 1:"
   ]
  },
  {
   "cell_type": "code",
   "execution_count": 6,
   "id": "71efdf9b-7135-4c64-9688-ecf11f6f4d6b",
   "metadata": {},
   "outputs": [
    {
     "name": "stdout",
     "output_type": "stream",
     "text": [
      "P\n",
      "y\n",
      "n\n"
     ]
    }
   ],
   "source": [
    "print(a[0])\n",
    "print(a[1])\n",
    "print(a[10])"
   ]
  },
  {
   "cell_type": "markdown",
   "id": "53531c4f-2950-4987-9fdc-d68cec7d0f16",
   "metadata": {},
   "source": [
    "Notice that we get an error trying to index the 11th position of the string.  That's because while there are 11 characters, the final position is actually 10 because of the zero indexing.  In this spirit, also know that strings have a property called length that numeric types do not:"
   ]
  },
  {
   "cell_type": "code",
   "execution_count": 8,
   "id": "91928db5-6530-4750-b772-4a231082d08d",
   "metadata": {
    "scrolled": true
   },
   "outputs": [
    {
     "name": "stdout",
     "output_type": "stream",
     "text": [
      "11\n"
     ]
    },
    {
     "ename": "TypeError",
     "evalue": "object of type 'int' has no len()",
     "output_type": "error",
     "traceback": [
      "\u001b[0;31m---------------------------------------------------------------------------\u001b[0m",
      "\u001b[0;31mTypeError\u001b[0m                                 Traceback (most recent call last)",
      "Input \u001b[0;32mIn [8]\u001b[0m, in \u001b[0;36m<cell line: 2>\u001b[0;34m()\u001b[0m\n\u001b[1;32m      1\u001b[0m \u001b[38;5;28mprint\u001b[39m(\u001b[38;5;28mlen\u001b[39m(a))\n\u001b[0;32m----> 2\u001b[0m \u001b[38;5;28mprint\u001b[39m(\u001b[38;5;28;43mlen\u001b[39;49m\u001b[43m(\u001b[49m\u001b[38;5;241;43m19\u001b[39;49m\u001b[43m)\u001b[49m)\n",
      "\u001b[0;31mTypeError\u001b[0m: object of type 'int' has no len()"
     ]
    }
   ],
   "source": [
    "print(len(a))\n",
    "print(len(19))"
   ]
  },
  {
   "cell_type": "markdown",
   "id": "54141a0d-2149-4d36-8e11-0e64a205f9fa",
   "metadata": {},
   "source": [
    "In addition to indexing strings, we can also **slice** them.  Slicing involves grabbing a range of characters instead of just one.\n",
    "\n",
    "Let's try to grab \"Python\" out of `a`.  Remember the zero indexing!"
   ]
  },
  {
   "cell_type": "code",
   "execution_count": 9,
   "id": "c2b38b52-909e-4a62-aa64-a3baaa114591",
   "metadata": {},
   "outputs": [
    {
     "data": {
      "text/plain": [
       "'Pytho'"
      ]
     },
     "execution_count": 9,
     "metadata": {},
     "output_type": "execute_result"
    }
   ],
   "source": [
    "a[0:5]"
   ]
  },
  {
   "cell_type": "markdown",
   "id": "409e6e25-c636-4b89-914f-6cc3c84c8c08",
   "metadata": {},
   "source": [
    "Huh, looks like we're missing the \"n\" at the end.  What I neglected to tell you before is that python slices are non-inclusive, meaning that the slicing will end just before the final position given.  So, to get \"Python,\" we need to slice to position 6 (the 7th character)."
   ]
  },
  {
   "cell_type": "code",
   "execution_count": 10,
   "id": "a8afe5fd-f38d-47fd-bc86-7c247a25d0c3",
   "metadata": {},
   "outputs": [
    {
     "data": {
      "text/plain": [
       "'Python'"
      ]
     },
     "execution_count": 10,
     "metadata": {},
     "output_type": "execute_result"
    }
   ],
   "source": [
    "a[0:6]"
   ]
  },
  {
   "cell_type": "markdown",
   "id": "e693a7b9-db58-4043-af5d-73cafb18c0b2",
   "metadata": {},
   "source": [
    "Note that slicing and indexing do not remove characters from a string.  Our variable `a` is still completely intact."
   ]
  },
  {
   "cell_type": "code",
   "execution_count": 11,
   "id": "074749fa-45da-4f67-b3fc-6a4fa01f50f0",
   "metadata": {},
   "outputs": [
    {
     "name": "stdout",
     "output_type": "stream",
     "text": [
      "PythonIsFun\n"
     ]
    }
   ],
   "source": [
    "print(a)"
   ]
  },
  {
   "cell_type": "markdown",
   "id": "25d86fa9-1dd4-45e4-bde2-7de268e17867",
   "metadata": {},
   "source": [
    "Strings can also be added together."
   ]
  },
  {
   "cell_type": "code",
   "execution_count": 12,
   "id": "df23ebd1-9b27-472e-b20d-1dbf5e881ddf",
   "metadata": {},
   "outputs": [
    {
     "name": "stdout",
     "output_type": "stream",
     "text": [
      "My name is AmeliaHarrison\n",
      "My name is Amelia Harrison\n"
     ]
    }
   ],
   "source": [
    "full_name = 'Amelia' + 'Harrison'\n",
    "print('My name is', full_name)\n",
    "full_name = 'Amelia' + ' ' + 'Harrison'\n",
    "print('My name is', full_name)"
   ]
  },
  {
   "cell_type": "markdown",
   "id": "20edac11-2f38-4c6e-89c3-2e61d7e8aaae",
   "metadata": {},
   "source": [
    "And multiplied!"
   ]
  },
  {
   "cell_type": "code",
   "execution_count": 13,
   "id": "9faf700f-55fe-46cf-8009-9e92978e9ed4",
   "metadata": {},
   "outputs": [
    {
     "name": "stdout",
     "output_type": "stream",
     "text": [
      "appleappleapple\n"
     ]
    }
   ],
   "source": [
    "pie = 'apple' * 3\n",
    "print(pie)"
   ]
  },
  {
   "cell_type": "markdown",
   "id": "0f558da9-d3fb-4b13-b159-d3401abf801d",
   "metadata": {},
   "source": [
    "## Mixing types\n",
    "\n",
    "Remember that types do not mix in python.  You have to convert things if you want them to work together."
   ]
  },
  {
   "cell_type": "code",
   "execution_count": 24,
   "id": "82ec8533-3ef5-4efd-9af3-782b4288fe19",
   "metadata": {},
   "outputs": [
    {
     "name": "stdout",
     "output_type": "stream",
     "text": [
      "8\n"
     ]
    },
    {
     "ename": "TypeError",
     "evalue": "unsupported operand type(s) for +: 'int' and 'str'",
     "output_type": "error",
     "traceback": [
      "\u001b[0;31m---------------------------------------------------------------------------\u001b[0m",
      "\u001b[0;31mTypeError\u001b[0m                                 Traceback (most recent call last)",
      "Input \u001b[0;32mIn [24]\u001b[0m, in \u001b[0;36m<cell line: 2>\u001b[0;34m()\u001b[0m\n\u001b[1;32m      1\u001b[0m \u001b[38;5;28mprint\u001b[39m(\u001b[38;5;241m3\u001b[39m \u001b[38;5;241m+\u001b[39m \u001b[38;5;241m5\u001b[39m)\n\u001b[0;32m----> 2\u001b[0m \u001b[38;5;28mprint\u001b[39m(\u001b[38;5;241;43m3\u001b[39;49m\u001b[43m \u001b[49m\u001b[38;5;241;43m+\u001b[39;49m\u001b[43m \u001b[49m\u001b[38;5;124;43m'\u001b[39;49m\u001b[38;5;124;43m5\u001b[39;49m\u001b[38;5;124;43m'\u001b[39;49m)\n",
      "\u001b[0;31mTypeError\u001b[0m: unsupported operand type(s) for +: 'int' and 'str'"
     ]
    }
   ],
   "source": [
    "print(3 + 5)\n",
    "print(3 + '5')"
   ]
  },
  {
   "cell_type": "code",
   "execution_count": 14,
   "id": "a6c12f96-03d0-4d98-9a35-b9767aff3d11",
   "metadata": {},
   "outputs": [
    {
     "name": "stdout",
     "output_type": "stream",
     "text": [
      "8\n",
      "35\n"
     ]
    }
   ],
   "source": [
    "print(3 + int('5'))\n",
    "print(str(3) + '5')"
   ]
  },
  {
   "cell_type": "markdown",
   "id": "a3cad85e-96f4-427f-80fc-bb66bf30813e",
   "metadata": {},
   "source": [
    "## Bools\n",
    "\n",
    "Bools, or boolean types, are TRUE/FALSE values.  A lot of programming relies on bools and things being true or false.  We will see this especially when we reach if/then statements.\n",
    "\n",
    "Some quick syntax.\n",
    "* `==` asks if two values are equal\n",
    "* `!=` asks if two values are unequal\n",
    "* `>` asks if the first value is greater\n",
    "* `>=` asks if the first value is greater or equal\n",
    "* `<` asks if the first value is lesser\n",
    "* `<=` asks if the first value is lesser or equal\n",
    "* `is` asks if two things point to the same object\n",
    "* `in` asks if one thing is a component of another\n",
    "\n",
    "Remember, a single `=` assigns variables, it does not assess truthiness."
   ]
  },
  {
   "cell_type": "code",
   "execution_count": 32,
   "id": "d6498638-cb63-4388-b9da-7b7576b035b4",
   "metadata": {},
   "outputs": [
    {
     "name": "stdout",
     "output_type": "stream",
     "text": [
      "False\n",
      "True\n",
      "True\n",
      "False\n"
     ]
    }
   ],
   "source": [
    "# let's start with numbers\n",
    "three = 3\n",
    "five = 5\n",
    "print(three == five)\n",
    "print(three != five)\n",
    "print(three < five)\n",
    "print(three > five)"
   ]
  },
  {
   "cell_type": "markdown",
   "id": "4264578f-ec0e-4823-92a2-2aa85eb1ea66",
   "metadata": {},
   "source": [
    "We can also use strings, and we do not have to use variables."
   ]
  },
  {
   "cell_type": "code",
   "execution_count": 34,
   "id": "0798e1ab-64c9-49db-84bc-37d11d00adea",
   "metadata": {},
   "outputs": [
    {
     "name": "stdout",
     "output_type": "stream",
     "text": [
      "True\n",
      "True\n",
      "False\n"
     ]
    }
   ],
   "source": [
    "print('PythonIsFun' == 'Python' + 'Is' + 'Fun')\n",
    "print('P' in 'Python')\n",
    "print('fun' in 'Python')"
   ]
  },
  {
   "cell_type": "code",
   "execution_count": 35,
   "id": "ba40bde9-0bfa-46e2-b6f9-13e5d248a876",
   "metadata": {},
   "outputs": [
    {
     "name": "stdout",
     "output_type": "stream",
     "text": [
      "True\n"
     ]
    }
   ],
   "source": [
    "x = 'Amelia'\n",
    "y = x\n",
    "print(y is x)"
   ]
  },
  {
   "cell_type": "code",
   "execution_count": 36,
   "id": "1357205e-38bc-4e3d-b570-51ecb3f159cf",
   "metadata": {},
   "outputs": [
    {
     "name": "stdout",
     "output_type": "stream",
     "text": [
      "True\n"
     ]
    }
   ],
   "source": [
    "x = 'Amelia'\n",
    "y = 'Amelia'\n",
    "print(y is x)"
   ]
  },
  {
   "cell_type": "code",
   "execution_count": 18,
   "id": "2908b814",
   "metadata": {},
   "outputs": [
    {
     "name": "stdout",
     "output_type": "stream",
     "text": [
      "3 3\n"
     ]
    }
   ],
   "source": [
    "x = 3\n",
    "print(x, y)"
   ]
  },
  {
   "cell_type": "code",
   "execution_count": 21,
   "id": "72160a31",
   "metadata": {
    "scrolled": true
   },
   "outputs": [
    {
     "name": "stdout",
     "output_type": "stream",
     "text": [
      "True\n",
      "False\n"
     ]
    }
   ],
   "source": [
    "# a case in which == gives us true and is gives us false\n",
    "x = 'apple'\n",
    "y = 'pie'\n",
    "xy = 'apple pie'\n",
    "print(xy == x + ' ' + y)\n",
    "print(xy is x + ' ' + y)"
   ]
  }
 ],
 "metadata": {
  "kernelspec": {
   "display_name": "Python 3 (ipykernel)",
   "language": "python",
   "name": "python3"
  },
  "language_info": {
   "codemirror_mode": {
    "name": "ipython",
    "version": 3
   },
   "file_extension": ".py",
   "mimetype": "text/x-python",
   "name": "python",
   "nbconvert_exporter": "python",
   "pygments_lexer": "ipython3",
   "version": "3.9.7"
  }
 },
 "nbformat": 4,
 "nbformat_minor": 5
}
