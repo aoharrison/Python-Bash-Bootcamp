{
 "cells": [
  {
   "cell_type": "markdown",
   "id": "0ac2ab77-ffcb-4e79-afae-710ffbb9ee35",
   "metadata": {},
   "source": [
    "# For Loops\n",
    "\n",
    "In the last lesson, we learned that lists and dictionaries are **iterable**.  This means that they can be iterated over with a loop.  Strings are also iterable objects.\n",
    "\n",
    "Here are a few examples of for loops and how you can use them with different data types and structures."
   ]
  },
  {
   "cell_type": "markdown",
   "id": "fa22dd0a-d955-4a59-b490-40135e9a66ea",
   "metadata": {},
   "source": [
    "The syntax of a for loop in python is as follows:\n",
    "\n",
    "```python\n",
    "for variable in thing:\n",
    "    do something\n",
    "```\n",
    "\n",
    "Unlike in bash, we don't need to tell the loop that we are done.  We do need to add a colon `:` at the end of the `for` line and any lines belonging to the loop need to be indented.  The standard indent in python is 4 spaces."
   ]
  },
  {
   "cell_type": "code",
   "execution_count": 2,
   "id": "8986ad4f-813c-40d0-a9a8-c696eb5a6af8",
   "metadata": {},
   "outputs": [
    {
     "name": "stdout",
     "output_type": "stream",
     "text": [
      "w\n",
      "o\n",
      "r\n",
      "d\n"
     ]
    }
   ],
   "source": [
    "# with a string\n",
    "for i in 'word':\n",
    "    print(i)"
   ]
  },
  {
   "cell_type": "code",
   "execution_count": 4,
   "id": "3cb55da0-7991-4fe5-8d46-f24860f4e136",
   "metadata": {},
   "outputs": [
    {
     "name": "stdout",
     "output_type": "stream",
     "text": [
      "I love  apple pie\n",
      "I love  cherry pie\n",
      "I love  pecan pie\n",
      "I love  key lime pie\n",
      "I love  all pie\n"
     ]
    }
   ],
   "source": [
    "# with a list\n",
    "a_list = ['apple', 'cherry', 'pecan', 'key lime', 'all']\n",
    "for fruit in a_list:\n",
    "    pie_type = fruit + ' pie'\n",
    "    print('I love ', pie_type)"
   ]
  },
  {
   "cell_type": "code",
   "execution_count": 11,
   "id": "87e8ffd2-cf84-4899-8f7d-d6a5e5b61a11",
   "metadata": {},
   "outputs": [
    {
     "name": "stdout",
     "output_type": "stream",
     "text": [
      "A circle with a radius of 3 inches has an area of 28.274333882308138 square inches and a circumference of 18.84955592153876 inches\n",
      "A circle with a radius of 4 inches has an area of 50.26548245743669 square inches and a circumference of 25.132741228718345 inches\n",
      "A circle with a radius of 5 inches has an area of 78.53981633974483 square inches and a circumference of 31.41592653589793 inches\n"
     ]
    }
   ],
   "source": [
    "# another list\n",
    "from math import pi\n",
    "\n",
    "radii = [3, 4, 5]\n",
    "for r in radii:\n",
    "    area = pi * r**2 # ** indicates an exponent\n",
    "    circumference = 2 * pi * r\n",
    "    print(f'A circle with a radius of {r} inches has an area of {area} square inches and a circumference of {circumference} inches')"
   ]
  },
  {
   "cell_type": "code",
   "execution_count": 2,
   "id": "4b64f6ac-dc7f-46ca-a78b-18c4d471a696",
   "metadata": {},
   "outputs": [
    {
     "name": "stdout",
     "output_type": "stream",
     "text": [
      "A kiwi is a fruit\n",
      "A kiwi is a vegetable\n",
      "A kiwi is a vegetable\n",
      "A kiwi is a fruit\n",
      "{'peach': 'fruit', 'broccoli': 'vegetable', 'carrot': 'vegetable', 'kiwi': 'fruit'}\n"
     ]
    }
   ],
   "source": [
    "# with a dictionary\n",
    "produce_dict = {'peach':'fruit', 'broccoli':'vegetable', 'carrot':'vegetable', 'kiwi':'fruit'}\n",
    "\n",
    "for produce in produce_dict:\n",
    "    produce_type = produce_dict[produce]\n",
    "    print('A', produce,'is a', produce_type)\n",
    "\n",
    "print(produce_dict)"
   ]
  },
  {
   "cell_type": "code",
   "execution_count": 4,
   "id": "5b8eee1c",
   "metadata": {},
   "outputs": [
    {
     "name": "stdout",
     "output_type": "stream",
     "text": [
      "a\n",
      "b\n",
      "c\n"
     ]
    }
   ],
   "source": [
    "a_dict = {1:'a', 2:'b', 3:'c'}\n",
    "\n",
    "for i in a_dict:\n",
    "    print(a_dict[i])"
   ]
  },
  {
   "cell_type": "markdown",
   "id": "3686ed67-4f9c-44bf-8a5b-52b398bbb6c4",
   "metadata": {},
   "source": [
    "In the above examples, notice the following:\n",
    "* The for loop procedes through the provided data object in the order it is presented\n",
    "* The variable name after `for` can be anything you want and will ideally be informative\n",
    "* We can perform functions within for loops and provide the results\n",
    "* The original data object remains untouched\n",
    "\n",
    "Here are some other common uses of for loops:"
   ]
  },
  {
   "cell_type": "code",
   "execution_count": 8,
   "id": "3a3aedb7-c081-4840-bfc5-bdf86530a03a",
   "metadata": {},
   "outputs": [
    {
     "name": "stdout",
     "output_type": "stream",
     "text": [
      "0\n",
      "1\n",
      "2\n",
      "3\n",
      "4\n"
     ]
    }
   ],
   "source": [
    "# iterate over a range\n",
    "for i in range(0, 5):\n",
    "    print(i)\n",
    "    "
   ]
  },
  {
   "cell_type": "code",
   "execution_count": 13,
   "id": "85bcf03a-56c3-4a32-bf06-de8b0c13fa85",
   "metadata": {},
   "outputs": [
    {
     "name": "stdout",
     "output_type": "stream",
     "text": [
      "0\n",
      "1\n",
      "2\n",
      "3\n",
      "4\n",
      "5\n"
     ]
    }
   ],
   "source": [
    "# iterate over a string using range\n",
    "for i in range(len('Amelia')):\n",
    "    print(i)"
   ]
  },
  {
   "cell_type": "code",
   "execution_count": 14,
   "id": "adbdb520-492a-4dc1-9537-4b9144673a06",
   "metadata": {},
   "outputs": [
    {
     "name": "stdout",
     "output_type": "stream",
     "text": [
      "1\n",
      "2\n",
      "3\n",
      "4\n"
     ]
    }
   ],
   "source": [
    "# increment numbers\n",
    "for i in range(0,4):\n",
    "    i += 1 # adds 1 to every number, short for i = i + 1\n",
    "    print(i)"
   ]
  },
  {
   "cell_type": "markdown",
   "id": "ea00e390-9c59-4df0-8488-675526feb39b",
   "metadata": {},
   "source": [
    "Finally, let's use for loops to put add items from a list to a dictionary."
   ]
  },
  {
   "cell_type": "code",
   "execution_count": 12,
   "id": "b3cec14b-35ab-492c-b773-1dce02b769b6",
   "metadata": {},
   "outputs": [
    {
     "name": "stdout",
     "output_type": "stream",
     "text": [
      "['Manju', 'Anandakrishnan']\n",
      "{'Anandakrishnan': 'Manju'}\n",
      "['Rene', 'Hoover']\n",
      "{'Anandakrishnan': 'Manju', 'Hoover': 'Rene'}\n",
      "['Vanessa', 'Richards']\n",
      "{'Anandakrishnan': 'Manju', 'Hoover': 'Rene', 'Richards': 'Vanessa'}\n"
     ]
    }
   ],
   "source": [
    "ta_list = ['Manju Anandakrishnan', 'Rene Hoover', 'Vanessa Richards']\n",
    "ta_dict = {} # helps to have the dictionary already made\n",
    "\n",
    "for name in ta_list:\n",
    "    n = name.split(' ')\n",
    "    print(n)\n",
    "    ta_dict[n[1]] = n[0]\n",
    "    print(ta_dict)\n"
   ]
  },
  {
   "cell_type": "markdown",
   "id": "6619a91d-3e51-4243-8b0e-195e66e72c1f",
   "metadata": {},
   "source": [
    "# While loops\n",
    "\n",
    "While we are talking about loops, I want to show you a quick example of the other kind of loop: the while loop.\n",
    "\n",
    "While loops are dangerous and should be used sparingly.  Instead of looping through an item of a set size, they loop through a process while some statement holds true.  This means you risk getting caught in an infinite loop of despair.\n",
    "\n",
    "Here is such a loop:\n",
    "\n",
    "```python\n",
    "while 2 > 1:\n",
    "    print('Hello there!')\n",
    "```\n",
    "\n",
    "Do not run the above code!  Here is an example of a while loop that will actually stop."
   ]
  },
  {
   "cell_type": "code",
   "execution_count": 16,
   "id": "86fe2768-902b-4ac5-b6bc-5dbaf0d1935a",
   "metadata": {},
   "outputs": [
    {
     "name": "stdout",
     "output_type": "stream",
     "text": [
      "Hello there!  It is  1\n",
      "Hello there!  It is  2\n",
      "Hello there!  It is  3\n",
      "Hello there!  It is  4\n",
      "Hello there!  It is  5\n"
     ]
    },
    {
     "ename": "TypeError",
     "evalue": "'i' is an invalid keyword argument for print()",
     "output_type": "error",
     "traceback": [
      "\u001b[0;31m---------------------------------------------------------------------------\u001b[0m",
      "\u001b[0;31mTypeError\u001b[0m                                 Traceback (most recent call last)",
      "Input \u001b[0;32mIn [16]\u001b[0m, in \u001b[0;36m<cell line: 7>\u001b[0;34m()\u001b[0m\n\u001b[1;32m      4\u001b[0m     \u001b[38;5;28mprint\u001b[39m(\u001b[38;5;124m'\u001b[39m\u001b[38;5;124mHello there!  It is \u001b[39m\u001b[38;5;124m'\u001b[39m, i)\n\u001b[1;32m      5\u001b[0m     i \u001b[38;5;241m+\u001b[39m\u001b[38;5;241m=\u001b[39m \u001b[38;5;241m1\u001b[39m \u001b[38;5;66;03m# i = i + 1\u001b[39;00m\n\u001b[0;32m----> 7\u001b[0m \u001b[38;5;28;43mprint\u001b[39;49m\u001b[43m(\u001b[49m\u001b[43mi\u001b[49m\u001b[43m \u001b[49m\u001b[38;5;241;43m=\u001b[39;49m\u001b[43m \u001b[49m\u001b[43mi\u001b[49m\u001b[43m \u001b[49m\u001b[38;5;241;43m-\u001b[39;49m\u001b[43m \u001b[49m\u001b[38;5;241;43m1\u001b[39;49m\u001b[43m)\u001b[49m\n",
      "\u001b[0;31mTypeError\u001b[0m: 'i' is an invalid keyword argument for print()"
     ]
    }
   ],
   "source": [
    "i = 1\n",
    "\n",
    "while i < 6:\n",
    "    print('Hello there!  It is ', i)\n",
    "    i += 1 # i = i + 1"
   ]
  }
 ],
 "metadata": {
  "kernelspec": {
   "display_name": "Python 3 (ipykernel)",
   "language": "python",
   "name": "python3"
  },
  "language_info": {
   "codemirror_mode": {
    "name": "ipython",
    "version": 3
   },
   "file_extension": ".py",
   "mimetype": "text/x-python",
   "name": "python",
   "nbconvert_exporter": "python",
   "pygments_lexer": "ipython3",
   "version": "3.9.7"
  }
 },
 "nbformat": 4,
 "nbformat_minor": 5
}
