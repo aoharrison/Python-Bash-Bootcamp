{
 "cells": [
  {
   "cell_type": "markdown",
   "id": "e685ba92-64f4-4d0d-bcd9-2bbf9b419375",
   "metadata": {},
   "source": [
    "# Working with Files\n",
    "\n",
    "You're going to be handling a lot of data files during the AI/ML workshop, most of which will be data tables like the one we handled in the Bash session.  Most of this will be done with a library called [pandas](https://pandas.pydata.org) that has very similar syntax to R.  If you want to check out pandas before the workshop, [this](http://swcarpentry.github.io/python-novice-gapminder/08-data-frames/index.html) is a great resource.\n",
    "\n",
    "Here, I'm actually going to show you how to read in and \"parse\" a different kind of file referred to as a `fasta` file.  If you ever do any sequencing, you will end up with `fasta` files.  They are plain text files with a very basic format:\n",
    "\n",
    "```\n",
    ">header comment\n",
    "SEQUENCE\n",
    "```\n",
    "\n",
    "They can get a little more complex, but that's essentially what they look like.\n",
    "\n",
    "Our goal in this lesson will be to read in the small file `fruit.fasta` and run some statistics on the sequences.  `fruit.fasta` should be in a folder on your Desktop.\n",
    "\n",
    "## Reading a file\n",
    "\n",
    "There are a couple of ways to read in a file.  I'll show you two ways to do this: One that reads the file into memory and one that streams the file."
   ]
  },
  {
   "cell_type": "code",
   "execution_count": 16,
   "id": "8163c497-3f76-465c-99e1-ccdddbff52a0",
   "metadata": {},
   "outputs": [
    {
     "name": "stdout",
     "output_type": "stream",
     "text": [
      ">apple\n",
      "\n",
      "AGTCTATTGATCCTCAGAT\n",
      "\n",
      ">banana\n",
      "\n",
      "TGATTTCTGTAATCCGCCA\n",
      "\n",
      ">blueberry\n",
      "\n",
      "ATGAGTCTAGCTAGCGATT\n",
      "\n",
      ">kiwi\n",
      "\n",
      "CGAATTGCCGACTATAGTT\n",
      "\n"
     ]
    }
   ],
   "source": [
    "with open(\"fruit.fasta\", \"r\") as fruit_seqs_file:\n",
    "    for line in fruit_seqs_file:\n",
    "        print(line)"
   ]
  },
  {
   "cell_type": "code",
   "execution_count": 13,
   "id": "8bd39864-7757-409b-82a0-222c6152dc3c",
   "metadata": {},
   "outputs": [
    {
     "name": "stdout",
     "output_type": "stream",
     "text": [
      "<_io.TextIOWrapper name='fruit.fasta' mode='r' encoding='UTF-8'>\n"
     ]
    }
   ],
   "source": [
    "print(fruit_seqs_file)"
   ]
  },
  {
   "cell_type": "markdown",
   "id": "c23e912d-0957-4313-a7a9-e2633a7d6db8",
   "metadata": {},
   "source": [
    "As you can see, we've read in the file and named it `fruit_seqs_file`.  The `\"r\"` at the end tells `open()` that we want to open the file for reading.  `\"r+\"` indicates reading and writing and `\"w\"` indicates writing.  We also have a view of the file contents.  Also know that using `with` automatically closes the file in addition to opening it.\n",
    "\n",
    "## Parsing a fasta file\n",
    "\n",
    "When we talk about parsing files, we simply mean going through them and sorting them.  For fasta files, that usually means separating out the headers from the sequences, but keeping them linked...I'm sensing a dictionary."
   ]
  },
  {
   "cell_type": "code",
   "execution_count": 19,
   "id": "dd3e96f8-1ed4-46ca-9277-1a96c2611495",
   "metadata": {},
   "outputs": [
    {
     "name": "stdout",
     "output_type": "stream",
     "text": [
      "{'>apple': 'AGTCTATTGATCCTCAGAT', '>banana': 'TGATTTCTGTAATCCGCCA', '>blueberry': 'ATGAGTCTAGCTAGCGATT', '>kiwi': 'CGAATTGCCGACTATAGTT'}\n"
     ]
    }
   ],
   "source": [
    "fruit_seqs_dict = {}\n",
    "\n",
    "# parse fasta into dict with header as key and sequence as value\n",
    "with open(\"fruit.fasta\", \"r\") as fruit_seqs_file:\n",
    "    for line in fruit_seqs_file:\n",
    "        line = line.rstrip()\n",
    "        if line.startswith('>'):\n",
    "            seq_name = line\n",
    "        else:\n",
    "            fruit_seqs_dict[seq_name] = line\n",
    "\n",
    "print(fruit_seqs_dict)"
   ]
  },
  {
   "cell_type": "markdown",
   "id": "44e611fd-7e82-495b-a538-15d153f4f131",
   "metadata": {},
   "source": [
    "There is another way to write the first bit of that for loop that you may see in the workshop and in other python code."
   ]
  },
  {
   "cell_type": "code",
   "execution_count": 2,
   "id": "dd0b1262-ca15-49a3-84e2-ded55121c0f7",
   "metadata": {},
   "outputs": [
    {
     "name": "stdout",
     "output_type": "stream",
     "text": [
      "['>apple', 'AGTCTATTGATCCTCAGAT', '>banana', 'TGATTTCTGTAATCCGCCA', '>blueberry', 'ATGAGTCTAGCTAGCGATT', '>kiwi', 'CGAATTGCCGACTATAGTT']\n",
      "{'>apple': 'AGTCTATTGATCCTCAGAT', '>banana': 'TGATTTCTGTAATCCGCCA', '>blueberry': 'ATGAGTCTAGCTAGCGATT', '>kiwi': 'CGAATTGCCGACTATAGTT'}\n"
     ]
    }
   ],
   "source": [
    "fruit_seqs_dict = {}\n",
    "\n",
    "# parse fasta into dict with header as key and sequence as value\n",
    "with open(\"fruit.fasta\", \"r\") as fruit_seqs_file:\n",
    "    lines = [ line.rstrip() for line in fruit_seqs_file ]\n",
    "    print(lines)\n",
    "    for line in lines:\n",
    "        if line.startswith('>'):\n",
    "            seq_name = line\n",
    "        else:\n",
    "            fruit_seqs_dict[seq_name] = line\n",
    "\n",
    "print(fruit_seqs_dict)"
   ]
  },
  {
   "cell_type": "markdown",
   "id": "c055176b-0dfc-43da-89e3-1102f53dd574",
   "metadata": {},
   "source": [
    "In this case, because we still had to do the conditional, this was not useful.  It is especially not useful because now we have read all of the lines into memory whereas before we were streaming them.  \n",
    "\n",
    "Even the first parsing is a little clunky, though.  In real life, we would import the SeqIO library from Biopython to parse our fasta file.  Notice that it even removes the `>` for us."
   ]
  },
  {
   "cell_type": "code",
   "execution_count": 3,
   "id": "e4e1a365-d129-4d59-a5e0-47c57e359818",
   "metadata": {},
   "outputs": [
    {
     "name": "stdout",
     "output_type": "stream",
     "text": [
      "apple\n",
      "banana\n",
      "blueberry\n",
      "kiwi\n",
      "AGTCTATTGATCCTCAGAT\n",
      "TGATTTCTGTAATCCGCCA\n",
      "ATGAGTCTAGCTAGCGATT\n",
      "CGAATTGCCGACTATAGTT\n"
     ]
    }
   ],
   "source": [
    "from Bio import SeqIO\n",
    "\n",
    "for record in SeqIO.parse(\"fruit.fasta\", \"fasta\"):\n",
    "    print(record.id)\n",
    "for record in SeqIO.parse(\"fruit.fasta\", \"fasta\"):\n",
    "    print(record.seq)"
   ]
  },
  {
   "cell_type": "markdown",
   "id": "809aed0f-a089-44d7-aaae-92c0f1dbd5de",
   "metadata": {},
   "source": [
    "## Appending to a file\n",
    "\n",
    "Let's say that we want to add one more sequence to the file.  The easiest way would be to append it to the end."
   ]
  },
  {
   "cell_type": "code",
   "execution_count": 7,
   "id": "de23b72a-6e92-48f6-93b0-dd2700eea85d",
   "metadata": {},
   "outputs": [],
   "source": [
    "new_seq_name = '>guava\\n'\n",
    "new_seq = 'GCGTAGTACAG\\n'\n",
    "\n",
    "with open(\"fruit.fasta\", \"a\") as file: # \"a\" stands for append\n",
    "    file.write(new_seq_name)\n",
    "    file.write(new_seq)"
   ]
  },
  {
   "cell_type": "markdown",
   "id": "acdc80ee-fb8b-4d01-9704-fbea2f433533",
   "metadata": {},
   "source": [
    "I did cheat a little by putting those newline characters on the end, but this works well wnough on the small scale, and enough for now."
   ]
  },
  {
   "cell_type": "markdown",
   "id": "99608afa-9e9c-4654-91c0-fec6fe4887aa",
   "metadata": {},
   "source": [
    "## Writing to a file\n",
    "\n",
    "Writing to a file is different than appending because it overwrites existing data.  However, the syntax will be essentially the same as appending.\n",
    "\n",
    "The next example will make a new file called `vegetable.fasta` and add data to it."
   ]
  },
  {
   "cell_type": "code",
   "execution_count": 8,
   "id": "d0be38b2-b0c5-4640-8468-f5d5509ac933",
   "metadata": {},
   "outputs": [],
   "source": [
    "veg = ['>cucumber\\n', 'CGATGACG\\n', '>pepper\\n', 'AGCTGCAT\\n', '>green bean\\n', 'TAGCAGATTACGATA\\n']\n",
    "\n",
    "with open(\"vegetable.fasta\", \"w\") as file:\n",
    "    file.writelines(veg)"
   ]
  },
  {
   "cell_type": "markdown",
   "id": "7577ea99-4ded-41eb-88f8-a9a34687f3ce",
   "metadata": {},
   "source": [
    "You should now have a new fasta file!"
   ]
  }
 ],
 "metadata": {
  "kernelspec": {
   "display_name": "Python 3 (ipykernel)",
   "language": "python",
   "name": "python3"
  },
  "language_info": {
   "codemirror_mode": {
    "name": "ipython",
    "version": 3
   },
   "file_extension": ".py",
   "mimetype": "text/x-python",
   "name": "python",
   "nbconvert_exporter": "python",
   "pygments_lexer": "ipython3",
   "version": "3.9.7"
  }
 },
 "nbformat": 4,
 "nbformat_minor": 5
}
