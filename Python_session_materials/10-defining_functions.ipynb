{
 "cells": [
  {
   "cell_type": "markdown",
   "id": "9397141b-10b9-48e3-8262-391ca29bec0e",
   "metadata": {},
   "source": [
    "# Defining functions\n",
    "\n",
    "So far, we have been using functions from either the standard library or one that we have imported from another library.  Now, we will learn how to write our own!\n",
    "\n",
    "This is the standard syntax for writing a function:\n",
    "\n",
    "```python\n",
    "def function_name(argument):\n",
    "    do something\n",
    "    return something # not required, but many do this\n",
    "```\n",
    "\n",
    "You will always need the keyword `def`, a function name, parentheses, and a colon in the first line.  Functions do not always have to take an argument, though most do.  Functions also have to do something.  \n",
    "\n",
    "The return at the end is optional, though the return does count as doing something.  If you have it, the function will immediately terminate upon reaching it and provide the value.\n",
    "\n",
    "Let's write a couple of functions."
   ]
  },
  {
   "cell_type": "code",
   "execution_count": 1,
   "id": "6826aad1",
   "metadata": {},
   "outputs": [],
   "source": [
    "# this function always returns 5\n",
    "def give_me_5():\n",
    "    return 5"
   ]
  },
  {
   "cell_type": "code",
   "execution_count": 2,
   "id": "b117f78f-bacb-4d2e-88d2-dc494b3141b2",
   "metadata": {},
   "outputs": [
    {
     "name": "stdout",
     "output_type": "stream",
     "text": [
      "5\n",
      "25\n"
     ]
    }
   ],
   "source": [
    "# this function always returns 5\n",
    "def give_me_5():\n",
    "    return 5\n",
    "\n",
    "print(give_me_5())\n",
    "print(give_me_5() * give_me_5())"
   ]
  },
  {
   "cell_type": "markdown",
   "id": "aa5f98e5-45e5-443d-b87c-d697ca03c7e7",
   "metadata": {},
   "source": [
    "Notice that the function did not run until we called it.  There is no output before the print statements."
   ]
  },
  {
   "cell_type": "code",
   "execution_count": 5,
   "id": "e5975621-0cab-41ad-b79b-84305bea2bc9",
   "metadata": {},
   "outputs": [
    {
     "name": "stdout",
     "output_type": "stream",
     "text": [
      "6\n",
      "6\n"
     ]
    }
   ],
   "source": [
    "# this function counts the number of characters in a string\n",
    "def count_characters(a_str):\n",
    "    i = 0\n",
    "    for char in a_str:\n",
    "        i += 1\n",
    "    return i\n",
    "\n",
    "# we can give it a string or a variable containing a string\n",
    "print(count_characters('Amelia'))\n",
    "\n",
    "name = 'Amelia'\n",
    "print(count_characters(name))"
   ]
  },
  {
   "cell_type": "markdown",
   "id": "67a2ddbb-b957-4e91-bff9-8ef67410a2d3",
   "metadata": {},
   "source": [
    "Notice that the name of the argument (`a_str` in the block above) does not affect the name of the object you give to the function.  It's just there as a placeholder and later as a variable.  However, it's useful for them to be somewhat informative so you know what sorts of things can go into your function.\n",
    "\n",
    "You do need to make sure that the argument name that you use to define the function matches any instances where you use the argument in the body of the function."
   ]
  },
  {
   "cell_type": "markdown",
   "id": "83b879b3-4e84-49b2-9786-9007a6e7fffb",
   "metadata": {},
   "source": [
    "Lastly, let's define a function that performs the fasta parsing that we did earlier.  This should be fairly easy as most of the code already exists.  What we need to make sure to do is:\n",
    "\n",
    "1. Define a function that takes a single fasta file as input. \n",
    "2. Remove specific references to `fruit.fasta`.  We want this function to be able to take any fasta file.\n",
    "3. Make sure everything is indented properly."
   ]
  },
  {
   "cell_type": "code",
   "execution_count": 17,
   "id": "0dc5ed25-f3ab-4862-aafd-cce417cead81",
   "metadata": {},
   "outputs": [
    {
     "name": "stdout",
     "output_type": "stream",
     "text": [
      "{'>apple': 'AGTCTATTGATCCTCAGAT', '>banana': 'TGATTTCTGTAATCCGCCA', '>blueberry': 'ATGAGTCTAGCTAGCGATT', '>kiwi': 'CGAATTGCCGACTATAGTT', '>guava': 'GCGTAGTACAG'}\n"
     ]
    },
    {
     "data": {
      "text/plain": [
       "{'>apple': 'AGTCTATTGATCCTCAGAT',\n",
       " '>banana': 'TGATTTCTGTAATCCGCCA',\n",
       " '>blueberry': 'ATGAGTCTAGCTAGCGATT',\n",
       " '>kiwi': 'CGAATTGCCGACTATAGTT',\n",
       " '>guava': 'GCGTAGTACAG'}"
      ]
     },
     "execution_count": 17,
     "metadata": {},
     "output_type": "execute_result"
    }
   ],
   "source": [
    "def parse_fasta(file):\n",
    "    \"\"\"This is a docstring.\n",
    "    \n",
    "    Here, you should put a brief description of your function.\"\"\"\n",
    "    seqs_dict = {}\n",
    "\n",
    "    with open(file, \"r\") as f:\n",
    "        for line in f:\n",
    "            line = line.rstrip()\n",
    "            if line.startswith('>'):\n",
    "                seq_name = line\n",
    "            else:\n",
    "                seqs_dict[seq_name] = line\n",
    "    return seqs_dict\n",
    "\n",
    "fruit_seqs_dict = parse_fasta(\"fruit.fasta\")\n",
    "\n",
    "print(fruit_seqs_dict)\n",
    "\n",
    "parse_fasta(\"fruit.fasta\")"
   ]
  },
  {
   "cell_type": "markdown",
   "id": "d8c4d0fe-1f1f-4002-9e11-f84de727dbbf",
   "metadata": {},
   "source": [
    "And there it is!  Our very own fasta parser."
   ]
  }
 ],
 "metadata": {
  "kernelspec": {
   "display_name": "Python 3 (ipykernel)",
   "language": "python",
   "name": "python3"
  },
  "language_info": {
   "codemirror_mode": {
    "name": "ipython",
    "version": 3
   },
   "file_extension": ".py",
   "mimetype": "text/x-python",
   "name": "python",
   "nbconvert_exporter": "python",
   "pygments_lexer": "ipython3",
   "version": "3.9.7"
  }
 },
 "nbformat": 4,
 "nbformat_minor": 5
}
