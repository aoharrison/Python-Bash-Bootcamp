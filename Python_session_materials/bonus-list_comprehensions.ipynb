{
 "cells": [
  {
   "cell_type": "markdown",
   "id": "2f4a81e4-525e-4569-b8ca-75f5a5720b6f",
   "metadata": {},
   "source": [
    "# List Comprehensions\n",
    "\n",
    "List comprehensions are (mostly) used to create new lists from iterables or ranges.  They are enclosed by square brackets, contain the keywords `for` and `in`, and may contain a conditional statement:\n",
    "\n",
    "```python\n",
    "[expression for member in iterable (if conditional)]\n",
    "```\n",
    "\n",
    "Noticing that this is just another way to iterate over a list to create a new one, you may be asking, why not just use a for loop?  The short answer is that they are more Pythonic (real world), which in essence means that it's the way things are done in python.  The longer answer is this:\n",
    "\n",
    "> List comprehensions are also more declarative than loops, which means they’re easier to read and understand. Loops require you to focus on how the list is created. You have to manually create an empty list, loop over the elements, and add each of them to the end of the list. With a list comprehension in Python, you can instead focus on what you want to go in the list and trust that Python will take care of how the list construction takes place.\n",
    "\n",
    "-- From [RealPython](https://realpython.com/list-comprehension-python/)"
   ]
  },
  {
   "cell_type": "markdown",
   "id": "1e8b44b6-3984-44ad-b265-a97701cd5071",
   "metadata": {},
   "source": [
    "Now that we've talked a bit about list comprehensions, let's see how to build them and what they can do."
   ]
  },
  {
   "cell_type": "code",
   "execution_count": 11,
   "id": "f3266c76-6a7f-458c-96b0-9d89b90684f1",
   "metadata": {},
   "outputs": [
    {
     "name": "stdout",
     "output_type": "stream",
     "text": [
      "['apple pie', 'cherry pie', 'pecan pie', 'key lime pie', 'all pie']\n"
     ]
    }
   ],
   "source": [
    "# make a new list with a for loop\n",
    "\n",
    "## create a list\n",
    "a_list = ['apple', 'cherry', 'pecan', 'key lime', 'all']\n",
    "\n",
    "## initialize the empty list\n",
    "fav_pies = []\n",
    "\n",
    "## for loop to add items to list\n",
    "for fruit in a_list:\n",
    "    fav_pies.append(fruit + ' pie')\n",
    "\n",
    "print(fav_pies)"
   ]
  },
  {
   "cell_type": "code",
   "execution_count": 14,
   "id": "5ce92771-db7e-4155-9eff-6df4f4d4b53f",
   "metadata": {},
   "outputs": [
    {
     "name": "stdout",
     "output_type": "stream",
     "text": [
      "['apple pie', 'cherry pie', 'pecan pie', 'key lime pie', 'all pie']\n"
     ]
    }
   ],
   "source": [
    "# make the fav_pies list with a list comprehension\n",
    "fav_pies_comp = [fruit + ' pie' for fruit in a_list]\n",
    "\n",
    "print(fav_pies_comp)"
   ]
  },
  {
   "cell_type": "markdown",
   "id": "d08a7e62-27b0-46de-9aeb-875bdafa7812",
   "metadata": {},
   "source": [
    "The first example is one that I took from the for loops lesson and the second example is the same code written as a list comprehension.  In the second example, we can see a couple of benefits to using the list comprehension syntax: 1. The code is shorter and 2. We did not have to initialize the list.\n",
    "\n",
    "We also don't need an existing list to use a list comprehension.  Again, I will show you the for loop syntax so that you can compare."
   ]
  },
  {
   "cell_type": "code",
   "execution_count": 19,
   "id": "83a008b9-546c-404f-92d1-645d021ff19e",
   "metadata": {},
   "outputs": [
    {
     "name": "stdout",
     "output_type": "stream",
     "text": [
      "[0.0, 12.566370614359172, 25.132741228718345, 37.69911184307752]\n",
      "[0.0, 12.566370614359172, 25.132741228718345, 37.69911184307752]\n"
     ]
    }
   ],
   "source": [
    "from math import pi\n",
    "\n",
    "even_numbers = [0, 2, 4, 6]\n",
    "\n",
    "# for loop\n",
    "circumferences = []\n",
    "\n",
    "for r in range(7):\n",
    "    if r in even_numbers:\n",
    "        circumferences.append(2*pi*r)\n",
    "\n",
    "print(circumferences)\n",
    "\n",
    "# list comprehension\n",
    "circumferences_comp = [2*pi*r for r in range(7) if r in even_numbers]\n",
    "\n",
    "print(circumferences_comp)"
   ]
  },
  {
   "cell_type": "markdown",
   "id": "2a3a7666-7929-4834-87e3-2277c78324be",
   "metadata": {},
   "source": [
    "Here, we have managed to compress 4 lines of code down to 1 to create a more readable statement."
   ]
  },
  {
   "cell_type": "markdown",
   "id": "ad5e851a-5d54-4ecb-b720-0cdc7318f49d",
   "metadata": {},
   "source": [
    "If you would like to read more about list comprehensions, see [this article](https://realpython.com/list-comprehension-python/).\n",
    "\n",
    "If you would like to practice crafting a list comprehension from a for loop, try to convert this loop before clicking on the link:"
   ]
  },
  {
   "cell_type": "code",
   "execution_count": 21,
   "id": "24a4db57-2690-4060-a68c-4c32f8947b39",
   "metadata": {},
   "outputs": [
    {
     "name": "stdout",
     "output_type": "stream",
     "text": [
      "[0, 1, 4, 9, 16, 25, 36, 49, 64, 81]\n"
     ]
    }
   ],
   "source": [
    "squares = []\n",
    "\n",
    "for i in range(10):\n",
    "    squares.append(i * i)\n",
    "\n",
    "print(squares)"
   ]
  }
 ],
 "metadata": {
  "kernelspec": {
   "display_name": "Python 3 (ipykernel)",
   "language": "python",
   "name": "python3"
  },
  "language_info": {
   "codemirror_mode": {
    "name": "ipython",
    "version": 3
   },
   "file_extension": ".py",
   "mimetype": "text/x-python",
   "name": "python",
   "nbconvert_exporter": "python",
   "pygments_lexer": "ipython3",
   "version": "3.9.7"
  }
 },
 "nbformat": 4,
 "nbformat_minor": 5
}
